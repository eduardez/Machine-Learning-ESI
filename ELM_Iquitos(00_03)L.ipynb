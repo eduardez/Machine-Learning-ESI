{
  "nbformat": 4,
  "nbformat_minor": 0,
  "metadata": {
    "colab": {
      "name": "ELM-Iquitos(00-03)L.ipynb",
      "provenance": [],
      "collapsed_sections": [
        "1S22htNOwXmZ",
        "KrT7nxLWwICl",
        "opSNdDb31zEU",
        "yYyJh9gdyrbp",
        "xOFwEw7k4BMv"
      ],
      "toc_visible": true,
      "authorship_tag": "ABX9TyOeyiN7kC/GP6L7DsJ3jSGZ",
      "include_colab_link": true
    },
    "kernelspec": {
      "name": "python3",
      "display_name": "Python 3"
    }
  },
  "cells": [
    {
      "cell_type": "markdown",
      "metadata": {
        "id": "view-in-github",
        "colab_type": "text"
      },
      "source": [
        "<a href=\"https://colab.research.google.com/github/eduardez/Machine-Learning-ESI/blob/Limpio/ELM_Iquitos(00_03)L.ipynb\" target=\"_parent\"><img src=\"https://colab.research.google.com/assets/colab-badge.svg\" alt=\"Open In Colab\"/></a>"
      ]
    },
    {
      "cell_type": "markdown",
      "metadata": {
        "id": "1S22htNOwXmZ"
      },
      "source": [
        "# 1 - Introduction"
      ]
    },
    {
      "cell_type": "markdown",
      "metadata": {
        "id": "KrT7nxLWwICl"
      },
      "source": [
        "##1.1 - The features in the dataset"
      ]
    },
    {
      "cell_type": "markdown",
      "metadata": {
        "id": "uX8Ff24iw2XZ"
      },
      "source": [
        "General\n",
        "\n",
        "Var | Meaning\n",
        "--- | ---\n",
        "city | Ciudad\n",
        "week_start_date | Fecha de inicio de la semana\n",
        "\n",
        "NOAA's GHCN daily climate data weather station measurements\n",
        "\n",
        "Var | Meaning\n",
        "--- | ---\n",
        "station_max_temp_c | Maximum temperature\n",
        "station_min_temp_c | Minimum temperature\n",
        "station_avg_temp_c | Average temperature\n",
        "station_precip_mm | Total precipitation\n",
        "station_diur_temp_rng_c | Diurnal temperature range\n",
        "\n",
        "\n",
        "PERSIANN satellite precipitation measurements (0.25x0.25 degree scale)\n",
        "\n",
        "Var | Meaning\n",
        "--- | ---\n",
        "precipitation_amt_mm | Total precipitation\n",
        "\n",
        "NOAA's NCEP Climate Forecast System Reanalysis measurements (0.5x0.5 degree scale)\n",
        "\n",
        "Var | Significado\n",
        "--- | ---\n",
        "reanalysis_sat_precip_amt_mm | Total precipitation\n",
        "reanalysis_dew_point_temp_k | Mean dew point temperature (Temperatura media del rocío)\n",
        "reanalysis_air_temp_k | Mean air temperature\n",
        "reanalysis_relative_humidity_percent | Mean relative humidity\n",
        "reanalysis_specific_humidity_g_per_kg | Mean specific humidity\n",
        "reanalysis_precip_amt_kg_per_m2 | Total precipitation (kg/m2)\n",
        "reanalysis_max_air_temp_k | Maximum air temperature\n",
        "reanalysis_min_air_temp_k | Minimum air temperature\n",
        "reanalysis_avg_temp_k | Average air temperature\n",
        "reanalysis_tdtr_k | Diurnal temperature range\n",
        "\n",
        "\n",
        "Satellite vegetation - Normalized difference vegetation index (NDVI) - NOAA's CDR Normalized Difference Vegetation Index (0.5x0.5 degree scale) measurements \n",
        "\n",
        "Var | Significado\n",
        "--- | ---\n",
        "ndvi_se | Pixel southeast of city centroid\n",
        "ndvi_sw | Pixel southwest of city centroid\n",
        "ndvi_ne | Pixel northeast of city centroid\n",
        "ndvi_nw | Pixel northwest of city centroid"
      ]
    },
    {
      "cell_type": "markdown",
      "metadata": {
        "id": "opSNdDb31zEU"
      },
      "source": [
        "## 1.2 - Objetives\n",
        "\n",
        "The purpose of this work is to explore the environmental data collected by various U.S.\n",
        "Federal Government Agencies from two cities ( San Juan, Puerto Rico and Iquitos, Peru) to\n",
        "gain a better understanding of the Denge Spread Phenomena.\n",
        "These data are from a competition of the site DrivenData 1\n",
        ". Training data will be used 2\n",
        ".\n",
        "The overall objective is to **use unsupervised learning techniques to make a preliminary exploration of the data and to extract conclusions from discarded elements, etc**. The specific\n",
        "objectives are as follows:\n",
        "1. Identification of outliers elements (weeks) in the dataset\n",
        "2. Use clustering algorithms to identify groups and characterize them.\n",
        "3. (optional) Feature Selection using clustering algorithms\n",
        "\n",
        "### **The ELM group has been assigned the city of Iquitos (2000-2003)**\n",
        "\n"
      ]
    },
    {
      "cell_type": "markdown",
      "metadata": {
        "id": "yYyJh9gdyrbp"
      },
      "source": [
        "##1.3 - Imports and data load"
      ]
    },
    {
      "cell_type": "code",
      "metadata": {
        "id": "0-Mtk1q2y7cK"
      },
      "source": [
        "# data load and manipulation\n",
        "from google.colab import files\n",
        "import io\n",
        "# dataframes library\n",
        "import pandas as pd\n",
        "# visualization \n",
        "import matplotlib.pyplot as plt\n",
        "import seaborn as sns\n",
        "# basic operations\n",
        "import numpy as np\n",
        "from numpy import corrcoef, transpose, arange\n",
        "import itertools"
      ],
      "execution_count": 1,
      "outputs": []
    },
    {
      "cell_type": "markdown",
      "metadata": {
        "id": "ClHlTrUVy-kx"
      },
      "source": [
        "We use ours GitHub Repository to store the data for automatic loading 😎"
      ]
    },
    {
      "cell_type": "code",
      "metadata": {
        "id": "BS-w3glhWEun",
        "outputId": "bce6e4ec-82a0-4564-853f-44b5cb7e6560",
        "colab": {
          "base_uri": "https://localhost:8080/",
          "height": 0
        }
      },
      "source": [
        "raw_dataset_features = pd.read_csv('https://raw.githubusercontent.com/eduardez/Machine-Learning-ESI/Limpio/dengue_features_train.csv',index_col=[0,1,2])\n",
        "raw_dataset_labels = pd.read_csv('https://raw.githubusercontent.com/eduardez/Machine-Learning-ESI/Limpio/dengue_labels_train.csv',index_col=[0,1,2])\n",
        "raw_dataset_features"
      ],
      "execution_count": 2,
      "outputs": [
        {
          "output_type": "execute_result",
          "data": {
            "text/html": [
              "<div>\n",
              "<style scoped>\n",
              "    .dataframe tbody tr th:only-of-type {\n",
              "        vertical-align: middle;\n",
              "    }\n",
              "\n",
              "    .dataframe tbody tr th {\n",
              "        vertical-align: top;\n",
              "    }\n",
              "\n",
              "    .dataframe thead th {\n",
              "        text-align: right;\n",
              "    }\n",
              "</style>\n",
              "<table border=\"1\" class=\"dataframe\">\n",
              "  <thead>\n",
              "    <tr style=\"text-align: right;\">\n",
              "      <th></th>\n",
              "      <th></th>\n",
              "      <th></th>\n",
              "      <th>week_start_date</th>\n",
              "      <th>ndvi_ne</th>\n",
              "      <th>ndvi_nw</th>\n",
              "      <th>ndvi_se</th>\n",
              "      <th>ndvi_sw</th>\n",
              "      <th>precipitation_amt_mm</th>\n",
              "      <th>reanalysis_air_temp_k</th>\n",
              "      <th>reanalysis_avg_temp_k</th>\n",
              "      <th>reanalysis_dew_point_temp_k</th>\n",
              "      <th>reanalysis_max_air_temp_k</th>\n",
              "      <th>reanalysis_min_air_temp_k</th>\n",
              "      <th>reanalysis_precip_amt_kg_per_m2</th>\n",
              "      <th>reanalysis_relative_humidity_percent</th>\n",
              "      <th>reanalysis_sat_precip_amt_mm</th>\n",
              "      <th>reanalysis_specific_humidity_g_per_kg</th>\n",
              "      <th>reanalysis_tdtr_k</th>\n",
              "      <th>station_avg_temp_c</th>\n",
              "      <th>station_diur_temp_rng_c</th>\n",
              "      <th>station_max_temp_c</th>\n",
              "      <th>station_min_temp_c</th>\n",
              "      <th>station_precip_mm</th>\n",
              "    </tr>\n",
              "    <tr>\n",
              "      <th>city</th>\n",
              "      <th>year</th>\n",
              "      <th>weekofyear</th>\n",
              "      <th></th>\n",
              "      <th></th>\n",
              "      <th></th>\n",
              "      <th></th>\n",
              "      <th></th>\n",
              "      <th></th>\n",
              "      <th></th>\n",
              "      <th></th>\n",
              "      <th></th>\n",
              "      <th></th>\n",
              "      <th></th>\n",
              "      <th></th>\n",
              "      <th></th>\n",
              "      <th></th>\n",
              "      <th></th>\n",
              "      <th></th>\n",
              "      <th></th>\n",
              "      <th></th>\n",
              "      <th></th>\n",
              "      <th></th>\n",
              "      <th></th>\n",
              "    </tr>\n",
              "  </thead>\n",
              "  <tbody>\n",
              "    <tr>\n",
              "      <th rowspan=\"5\" valign=\"top\">sj</th>\n",
              "      <th rowspan=\"5\" valign=\"top\">1990</th>\n",
              "      <th>18</th>\n",
              "      <td>1990-04-30</td>\n",
              "      <td>0.122600</td>\n",
              "      <td>0.103725</td>\n",
              "      <td>0.198483</td>\n",
              "      <td>0.177617</td>\n",
              "      <td>12.42</td>\n",
              "      <td>297.572857</td>\n",
              "      <td>297.742857</td>\n",
              "      <td>292.414286</td>\n",
              "      <td>299.8</td>\n",
              "      <td>295.9</td>\n",
              "      <td>32.00</td>\n",
              "      <td>73.365714</td>\n",
              "      <td>12.42</td>\n",
              "      <td>14.012857</td>\n",
              "      <td>2.628571</td>\n",
              "      <td>25.442857</td>\n",
              "      <td>6.900000</td>\n",
              "      <td>29.4</td>\n",
              "      <td>20.0</td>\n",
              "      <td>16.0</td>\n",
              "    </tr>\n",
              "    <tr>\n",
              "      <th>19</th>\n",
              "      <td>1990-05-07</td>\n",
              "      <td>0.169900</td>\n",
              "      <td>0.142175</td>\n",
              "      <td>0.162357</td>\n",
              "      <td>0.155486</td>\n",
              "      <td>22.82</td>\n",
              "      <td>298.211429</td>\n",
              "      <td>298.442857</td>\n",
              "      <td>293.951429</td>\n",
              "      <td>300.9</td>\n",
              "      <td>296.4</td>\n",
              "      <td>17.94</td>\n",
              "      <td>77.368571</td>\n",
              "      <td>22.82</td>\n",
              "      <td>15.372857</td>\n",
              "      <td>2.371429</td>\n",
              "      <td>26.714286</td>\n",
              "      <td>6.371429</td>\n",
              "      <td>31.7</td>\n",
              "      <td>22.2</td>\n",
              "      <td>8.6</td>\n",
              "    </tr>\n",
              "    <tr>\n",
              "      <th>20</th>\n",
              "      <td>1990-05-14</td>\n",
              "      <td>0.032250</td>\n",
              "      <td>0.172967</td>\n",
              "      <td>0.157200</td>\n",
              "      <td>0.170843</td>\n",
              "      <td>34.54</td>\n",
              "      <td>298.781429</td>\n",
              "      <td>298.878571</td>\n",
              "      <td>295.434286</td>\n",
              "      <td>300.5</td>\n",
              "      <td>297.3</td>\n",
              "      <td>26.10</td>\n",
              "      <td>82.052857</td>\n",
              "      <td>34.54</td>\n",
              "      <td>16.848571</td>\n",
              "      <td>2.300000</td>\n",
              "      <td>26.714286</td>\n",
              "      <td>6.485714</td>\n",
              "      <td>32.2</td>\n",
              "      <td>22.8</td>\n",
              "      <td>41.4</td>\n",
              "    </tr>\n",
              "    <tr>\n",
              "      <th>21</th>\n",
              "      <td>1990-05-21</td>\n",
              "      <td>0.128633</td>\n",
              "      <td>0.245067</td>\n",
              "      <td>0.227557</td>\n",
              "      <td>0.235886</td>\n",
              "      <td>15.36</td>\n",
              "      <td>298.987143</td>\n",
              "      <td>299.228571</td>\n",
              "      <td>295.310000</td>\n",
              "      <td>301.4</td>\n",
              "      <td>297.0</td>\n",
              "      <td>13.90</td>\n",
              "      <td>80.337143</td>\n",
              "      <td>15.36</td>\n",
              "      <td>16.672857</td>\n",
              "      <td>2.428571</td>\n",
              "      <td>27.471429</td>\n",
              "      <td>6.771429</td>\n",
              "      <td>33.3</td>\n",
              "      <td>23.3</td>\n",
              "      <td>4.0</td>\n",
              "    </tr>\n",
              "    <tr>\n",
              "      <th>22</th>\n",
              "      <td>1990-05-28</td>\n",
              "      <td>0.196200</td>\n",
              "      <td>0.262200</td>\n",
              "      <td>0.251200</td>\n",
              "      <td>0.247340</td>\n",
              "      <td>7.52</td>\n",
              "      <td>299.518571</td>\n",
              "      <td>299.664286</td>\n",
              "      <td>295.821429</td>\n",
              "      <td>301.9</td>\n",
              "      <td>297.5</td>\n",
              "      <td>12.20</td>\n",
              "      <td>80.460000</td>\n",
              "      <td>7.52</td>\n",
              "      <td>17.210000</td>\n",
              "      <td>3.014286</td>\n",
              "      <td>28.942857</td>\n",
              "      <td>9.371429</td>\n",
              "      <td>35.0</td>\n",
              "      <td>23.9</td>\n",
              "      <td>5.8</td>\n",
              "    </tr>\n",
              "    <tr>\n",
              "      <th>...</th>\n",
              "      <th>...</th>\n",
              "      <th>...</th>\n",
              "      <td>...</td>\n",
              "      <td>...</td>\n",
              "      <td>...</td>\n",
              "      <td>...</td>\n",
              "      <td>...</td>\n",
              "      <td>...</td>\n",
              "      <td>...</td>\n",
              "      <td>...</td>\n",
              "      <td>...</td>\n",
              "      <td>...</td>\n",
              "      <td>...</td>\n",
              "      <td>...</td>\n",
              "      <td>...</td>\n",
              "      <td>...</td>\n",
              "      <td>...</td>\n",
              "      <td>...</td>\n",
              "      <td>...</td>\n",
              "      <td>...</td>\n",
              "      <td>...</td>\n",
              "      <td>...</td>\n",
              "      <td>...</td>\n",
              "    </tr>\n",
              "    <tr>\n",
              "      <th rowspan=\"5\" valign=\"top\">iq</th>\n",
              "      <th rowspan=\"5\" valign=\"top\">2010</th>\n",
              "      <th>21</th>\n",
              "      <td>2010-05-28</td>\n",
              "      <td>0.342750</td>\n",
              "      <td>0.318900</td>\n",
              "      <td>0.256343</td>\n",
              "      <td>0.292514</td>\n",
              "      <td>55.30</td>\n",
              "      <td>299.334286</td>\n",
              "      <td>300.771429</td>\n",
              "      <td>296.825714</td>\n",
              "      <td>309.7</td>\n",
              "      <td>294.5</td>\n",
              "      <td>45.00</td>\n",
              "      <td>88.765714</td>\n",
              "      <td>55.30</td>\n",
              "      <td>18.485714</td>\n",
              "      <td>9.800000</td>\n",
              "      <td>28.633333</td>\n",
              "      <td>11.933333</td>\n",
              "      <td>35.4</td>\n",
              "      <td>22.4</td>\n",
              "      <td>27.0</td>\n",
              "    </tr>\n",
              "    <tr>\n",
              "      <th>22</th>\n",
              "      <td>2010-06-04</td>\n",
              "      <td>0.160157</td>\n",
              "      <td>0.160371</td>\n",
              "      <td>0.136043</td>\n",
              "      <td>0.225657</td>\n",
              "      <td>86.47</td>\n",
              "      <td>298.330000</td>\n",
              "      <td>299.392857</td>\n",
              "      <td>296.452857</td>\n",
              "      <td>308.5</td>\n",
              "      <td>291.9</td>\n",
              "      <td>207.10</td>\n",
              "      <td>91.600000</td>\n",
              "      <td>86.47</td>\n",
              "      <td>18.070000</td>\n",
              "      <td>7.471429</td>\n",
              "      <td>27.433333</td>\n",
              "      <td>10.500000</td>\n",
              "      <td>34.7</td>\n",
              "      <td>21.7</td>\n",
              "      <td>36.6</td>\n",
              "    </tr>\n",
              "    <tr>\n",
              "      <th>23</th>\n",
              "      <td>2010-06-11</td>\n",
              "      <td>0.247057</td>\n",
              "      <td>0.146057</td>\n",
              "      <td>0.250357</td>\n",
              "      <td>0.233714</td>\n",
              "      <td>58.94</td>\n",
              "      <td>296.598571</td>\n",
              "      <td>297.592857</td>\n",
              "      <td>295.501429</td>\n",
              "      <td>305.5</td>\n",
              "      <td>292.4</td>\n",
              "      <td>50.60</td>\n",
              "      <td>94.280000</td>\n",
              "      <td>58.94</td>\n",
              "      <td>17.008571</td>\n",
              "      <td>7.500000</td>\n",
              "      <td>24.400000</td>\n",
              "      <td>6.900000</td>\n",
              "      <td>32.2</td>\n",
              "      <td>19.2</td>\n",
              "      <td>7.4</td>\n",
              "    </tr>\n",
              "    <tr>\n",
              "      <th>24</th>\n",
              "      <td>2010-06-18</td>\n",
              "      <td>0.333914</td>\n",
              "      <td>0.245771</td>\n",
              "      <td>0.278886</td>\n",
              "      <td>0.325486</td>\n",
              "      <td>59.67</td>\n",
              "      <td>296.345714</td>\n",
              "      <td>297.521429</td>\n",
              "      <td>295.324286</td>\n",
              "      <td>306.1</td>\n",
              "      <td>291.9</td>\n",
              "      <td>62.33</td>\n",
              "      <td>94.660000</td>\n",
              "      <td>59.67</td>\n",
              "      <td>16.815714</td>\n",
              "      <td>7.871429</td>\n",
              "      <td>25.433333</td>\n",
              "      <td>8.733333</td>\n",
              "      <td>31.2</td>\n",
              "      <td>21.0</td>\n",
              "      <td>16.0</td>\n",
              "    </tr>\n",
              "    <tr>\n",
              "      <th>25</th>\n",
              "      <td>2010-06-25</td>\n",
              "      <td>0.298186</td>\n",
              "      <td>0.232971</td>\n",
              "      <td>0.274214</td>\n",
              "      <td>0.315757</td>\n",
              "      <td>63.22</td>\n",
              "      <td>298.097143</td>\n",
              "      <td>299.835714</td>\n",
              "      <td>295.807143</td>\n",
              "      <td>307.8</td>\n",
              "      <td>292.3</td>\n",
              "      <td>36.90</td>\n",
              "      <td>89.082857</td>\n",
              "      <td>63.22</td>\n",
              "      <td>17.355714</td>\n",
              "      <td>11.014286</td>\n",
              "      <td>27.475000</td>\n",
              "      <td>9.900000</td>\n",
              "      <td>33.7</td>\n",
              "      <td>22.2</td>\n",
              "      <td>20.4</td>\n",
              "    </tr>\n",
              "  </tbody>\n",
              "</table>\n",
              "<p>1456 rows × 21 columns</p>\n",
              "</div>"
            ],
            "text/plain": [
              "                     week_start_date  ...  station_precip_mm\n",
              "city year weekofyear                  ...                   \n",
              "sj   1990 18              1990-04-30  ...               16.0\n",
              "          19              1990-05-07  ...                8.6\n",
              "          20              1990-05-14  ...               41.4\n",
              "          21              1990-05-21  ...                4.0\n",
              "          22              1990-05-28  ...                5.8\n",
              "...                              ...  ...                ...\n",
              "iq   2010 21              2010-05-28  ...               27.0\n",
              "          22              2010-06-04  ...               36.6\n",
              "          23              2010-06-11  ...                7.4\n",
              "          24              2010-06-18  ...               16.0\n",
              "          25              2010-06-25  ...               20.4\n",
              "\n",
              "[1456 rows x 21 columns]"
            ]
          },
          "metadata": {
            "tags": []
          },
          "execution_count": 2
        }
      ]
    },
    {
      "cell_type": "markdown",
      "metadata": {
        "id": "4HhlReKa3iuw"
      },
      "source": [
        "#2 - Initial exploration and preprocessing"
      ]
    },
    {
      "cell_type": "markdown",
      "metadata": {
        "id": "xOFwEw7k4BMv"
      },
      "source": [
        "##2.1 -  Year filter\n",
        "\n",
        "In this first part we have to focus on the period of time between 2000 and 2003. So we have to apply a filter to achieve this task using pandas library."
      ]
    },
    {
      "cell_type": "code",
      "metadata": {
        "id": "5HLLhP-Q4mGk",
        "outputId": "289bc3bf-be3d-41d4-a83e-4ccac08ca011",
        "colab": {
          "base_uri": "https://localhost:8080/",
          "height": 0
        }
      },
      "source": [
        "dataset_features = raw_dataset_features.loc['iq']\n",
        "dataset_features = dataset_features.loc[2000:2003]\n",
        "\n",
        "dataset_labels = raw_dataset_labels.loc[\"iq\"]\n",
        "dataset_labels = dataset_labels.loc[2000:2003]\n",
        "dataset_features"
      ],
      "execution_count": 3,
      "outputs": [
        {
          "output_type": "execute_result",
          "data": {
            "text/html": [
              "<div>\n",
              "<style scoped>\n",
              "    .dataframe tbody tr th:only-of-type {\n",
              "        vertical-align: middle;\n",
              "    }\n",
              "\n",
              "    .dataframe tbody tr th {\n",
              "        vertical-align: top;\n",
              "    }\n",
              "\n",
              "    .dataframe thead th {\n",
              "        text-align: right;\n",
              "    }\n",
              "</style>\n",
              "<table border=\"1\" class=\"dataframe\">\n",
              "  <thead>\n",
              "    <tr style=\"text-align: right;\">\n",
              "      <th></th>\n",
              "      <th></th>\n",
              "      <th>week_start_date</th>\n",
              "      <th>ndvi_ne</th>\n",
              "      <th>ndvi_nw</th>\n",
              "      <th>ndvi_se</th>\n",
              "      <th>ndvi_sw</th>\n",
              "      <th>precipitation_amt_mm</th>\n",
              "      <th>reanalysis_air_temp_k</th>\n",
              "      <th>reanalysis_avg_temp_k</th>\n",
              "      <th>reanalysis_dew_point_temp_k</th>\n",
              "      <th>reanalysis_max_air_temp_k</th>\n",
              "      <th>reanalysis_min_air_temp_k</th>\n",
              "      <th>reanalysis_precip_amt_kg_per_m2</th>\n",
              "      <th>reanalysis_relative_humidity_percent</th>\n",
              "      <th>reanalysis_sat_precip_amt_mm</th>\n",
              "      <th>reanalysis_specific_humidity_g_per_kg</th>\n",
              "      <th>reanalysis_tdtr_k</th>\n",
              "      <th>station_avg_temp_c</th>\n",
              "      <th>station_diur_temp_rng_c</th>\n",
              "      <th>station_max_temp_c</th>\n",
              "      <th>station_min_temp_c</th>\n",
              "      <th>station_precip_mm</th>\n",
              "    </tr>\n",
              "    <tr>\n",
              "      <th>year</th>\n",
              "      <th>weekofyear</th>\n",
              "      <th></th>\n",
              "      <th></th>\n",
              "      <th></th>\n",
              "      <th></th>\n",
              "      <th></th>\n",
              "      <th></th>\n",
              "      <th></th>\n",
              "      <th></th>\n",
              "      <th></th>\n",
              "      <th></th>\n",
              "      <th></th>\n",
              "      <th></th>\n",
              "      <th></th>\n",
              "      <th></th>\n",
              "      <th></th>\n",
              "      <th></th>\n",
              "      <th></th>\n",
              "      <th></th>\n",
              "      <th></th>\n",
              "      <th></th>\n",
              "      <th></th>\n",
              "    </tr>\n",
              "  </thead>\n",
              "  <tbody>\n",
              "    <tr>\n",
              "      <th rowspan=\"5\" valign=\"top\">2000</th>\n",
              "      <th>26</th>\n",
              "      <td>2000-07-01</td>\n",
              "      <td>0.192886</td>\n",
              "      <td>0.132257</td>\n",
              "      <td>0.340886</td>\n",
              "      <td>0.247200</td>\n",
              "      <td>25.41</td>\n",
              "      <td>296.740000</td>\n",
              "      <td>298.450000</td>\n",
              "      <td>295.184286</td>\n",
              "      <td>307.3</td>\n",
              "      <td>293.1</td>\n",
              "      <td>43.19</td>\n",
              "      <td>92.418571</td>\n",
              "      <td>25.41</td>\n",
              "      <td>16.651429</td>\n",
              "      <td>8.928571</td>\n",
              "      <td>26.400000</td>\n",
              "      <td>10.775000</td>\n",
              "      <td>32.5</td>\n",
              "      <td>20.7</td>\n",
              "      <td>3.0</td>\n",
              "    </tr>\n",
              "    <tr>\n",
              "      <th>27</th>\n",
              "      <td>2000-07-08</td>\n",
              "      <td>0.216833</td>\n",
              "      <td>0.276100</td>\n",
              "      <td>0.289457</td>\n",
              "      <td>0.241657</td>\n",
              "      <td>60.61</td>\n",
              "      <td>296.634286</td>\n",
              "      <td>298.428571</td>\n",
              "      <td>295.358571</td>\n",
              "      <td>306.6</td>\n",
              "      <td>291.1</td>\n",
              "      <td>46.00</td>\n",
              "      <td>93.581429</td>\n",
              "      <td>60.61</td>\n",
              "      <td>16.862857</td>\n",
              "      <td>10.314286</td>\n",
              "      <td>26.900000</td>\n",
              "      <td>11.566667</td>\n",
              "      <td>34.0</td>\n",
              "      <td>20.8</td>\n",
              "      <td>55.6</td>\n",
              "    </tr>\n",
              "    <tr>\n",
              "      <th>28</th>\n",
              "      <td>2000-07-15</td>\n",
              "      <td>0.176757</td>\n",
              "      <td>0.173129</td>\n",
              "      <td>0.204114</td>\n",
              "      <td>0.128014</td>\n",
              "      <td>55.52</td>\n",
              "      <td>296.415714</td>\n",
              "      <td>297.392857</td>\n",
              "      <td>295.622857</td>\n",
              "      <td>304.5</td>\n",
              "      <td>292.6</td>\n",
              "      <td>64.77</td>\n",
              "      <td>95.848571</td>\n",
              "      <td>55.52</td>\n",
              "      <td>17.120000</td>\n",
              "      <td>7.385714</td>\n",
              "      <td>26.800000</td>\n",
              "      <td>11.466667</td>\n",
              "      <td>33.0</td>\n",
              "      <td>20.7</td>\n",
              "      <td>38.1</td>\n",
              "    </tr>\n",
              "    <tr>\n",
              "      <th>29</th>\n",
              "      <td>2000-07-22</td>\n",
              "      <td>0.227729</td>\n",
              "      <td>0.145429</td>\n",
              "      <td>0.254200</td>\n",
              "      <td>0.200314</td>\n",
              "      <td>5.60</td>\n",
              "      <td>295.357143</td>\n",
              "      <td>296.228571</td>\n",
              "      <td>292.797143</td>\n",
              "      <td>303.6</td>\n",
              "      <td>288.6</td>\n",
              "      <td>23.96</td>\n",
              "      <td>87.234286</td>\n",
              "      <td>5.60</td>\n",
              "      <td>14.431429</td>\n",
              "      <td>9.114286</td>\n",
              "      <td>25.766667</td>\n",
              "      <td>10.533333</td>\n",
              "      <td>31.5</td>\n",
              "      <td>14.7</td>\n",
              "      <td>30.0</td>\n",
              "    </tr>\n",
              "    <tr>\n",
              "      <th>30</th>\n",
              "      <td>2000-07-29</td>\n",
              "      <td>0.328643</td>\n",
              "      <td>0.322129</td>\n",
              "      <td>0.254371</td>\n",
              "      <td>0.361043</td>\n",
              "      <td>62.76</td>\n",
              "      <td>296.432857</td>\n",
              "      <td>297.635714</td>\n",
              "      <td>293.957143</td>\n",
              "      <td>307.0</td>\n",
              "      <td>291.5</td>\n",
              "      <td>31.80</td>\n",
              "      <td>88.161429</td>\n",
              "      <td>62.76</td>\n",
              "      <td>15.444286</td>\n",
              "      <td>9.500000</td>\n",
              "      <td>26.600000</td>\n",
              "      <td>11.480000</td>\n",
              "      <td>33.3</td>\n",
              "      <td>19.1</td>\n",
              "      <td>4.0</td>\n",
              "    </tr>\n",
              "    <tr>\n",
              "      <th>...</th>\n",
              "      <th>...</th>\n",
              "      <td>...</td>\n",
              "      <td>...</td>\n",
              "      <td>...</td>\n",
              "      <td>...</td>\n",
              "      <td>...</td>\n",
              "      <td>...</td>\n",
              "      <td>...</td>\n",
              "      <td>...</td>\n",
              "      <td>...</td>\n",
              "      <td>...</td>\n",
              "      <td>...</td>\n",
              "      <td>...</td>\n",
              "      <td>...</td>\n",
              "      <td>...</td>\n",
              "      <td>...</td>\n",
              "      <td>...</td>\n",
              "      <td>...</td>\n",
              "      <td>...</td>\n",
              "      <td>...</td>\n",
              "      <td>...</td>\n",
              "      <td>...</td>\n",
              "    </tr>\n",
              "    <tr>\n",
              "      <th rowspan=\"5\" valign=\"top\">2003</th>\n",
              "      <th>48</th>\n",
              "      <td>2003-11-26</td>\n",
              "      <td>0.274900</td>\n",
              "      <td>0.245200</td>\n",
              "      <td>0.309457</td>\n",
              "      <td>0.295329</td>\n",
              "      <td>81.27</td>\n",
              "      <td>299.222857</td>\n",
              "      <td>299.607143</td>\n",
              "      <td>296.530000</td>\n",
              "      <td>308.5</td>\n",
              "      <td>294.3</td>\n",
              "      <td>51.40</td>\n",
              "      <td>86.995714</td>\n",
              "      <td>81.27</td>\n",
              "      <td>18.270000</td>\n",
              "      <td>9.071429</td>\n",
              "      <td>28.300000</td>\n",
              "      <td>10.233333</td>\n",
              "      <td>34.7</td>\n",
              "      <td>22.0</td>\n",
              "      <td>26.2</td>\n",
              "    </tr>\n",
              "    <tr>\n",
              "      <th>49</th>\n",
              "      <td>2003-12-03</td>\n",
              "      <td>0.400343</td>\n",
              "      <td>0.318057</td>\n",
              "      <td>0.328771</td>\n",
              "      <td>0.369643</td>\n",
              "      <td>72.23</td>\n",
              "      <td>298.315714</td>\n",
              "      <td>299.735714</td>\n",
              "      <td>296.135714</td>\n",
              "      <td>309.4</td>\n",
              "      <td>293.5</td>\n",
              "      <td>77.83</td>\n",
              "      <td>89.207143</td>\n",
              "      <td>72.23</td>\n",
              "      <td>17.745714</td>\n",
              "      <td>9.700000</td>\n",
              "      <td>28.766667</td>\n",
              "      <td>10.166667</td>\n",
              "      <td>35.1</td>\n",
              "      <td>22.0</td>\n",
              "      <td>138.0</td>\n",
              "    </tr>\n",
              "    <tr>\n",
              "      <th>50</th>\n",
              "      <td>2003-12-10</td>\n",
              "      <td>0.358629</td>\n",
              "      <td>0.244350</td>\n",
              "      <td>0.351900</td>\n",
              "      <td>0.358800</td>\n",
              "      <td>108.62</td>\n",
              "      <td>298.685714</td>\n",
              "      <td>300.250000</td>\n",
              "      <td>297.338571</td>\n",
              "      <td>306.4</td>\n",
              "      <td>294.8</td>\n",
              "      <td>178.89</td>\n",
              "      <td>93.231429</td>\n",
              "      <td>108.62</td>\n",
              "      <td>19.107143</td>\n",
              "      <td>8.271429</td>\n",
              "      <td>28.400000</td>\n",
              "      <td>11.700000</td>\n",
              "      <td>34.2</td>\n",
              "      <td>22.5</td>\n",
              "      <td>47.4</td>\n",
              "    </tr>\n",
              "    <tr>\n",
              "      <th>51</th>\n",
              "      <td>2003-12-17</td>\n",
              "      <td>0.192667</td>\n",
              "      <td>0.224400</td>\n",
              "      <td>0.136114</td>\n",
              "      <td>0.136314</td>\n",
              "      <td>64.95</td>\n",
              "      <td>298.168571</td>\n",
              "      <td>299.542857</td>\n",
              "      <td>296.851429</td>\n",
              "      <td>308.5</td>\n",
              "      <td>294.1</td>\n",
              "      <td>65.04</td>\n",
              "      <td>93.917143</td>\n",
              "      <td>64.95</td>\n",
              "      <td>18.532857</td>\n",
              "      <td>8.342857</td>\n",
              "      <td>28.300000</td>\n",
              "      <td>10.450000</td>\n",
              "      <td>34.8</td>\n",
              "      <td>22.1</td>\n",
              "      <td>66.8</td>\n",
              "    </tr>\n",
              "    <tr>\n",
              "      <th>52</th>\n",
              "      <td>2003-12-24</td>\n",
              "      <td>0.285078</td>\n",
              "      <td>0.230656</td>\n",
              "      <td>0.267644</td>\n",
              "      <td>0.264778</td>\n",
              "      <td>49.42</td>\n",
              "      <td>296.297143</td>\n",
              "      <td>297.050000</td>\n",
              "      <td>295.682857</td>\n",
              "      <td>302.6</td>\n",
              "      <td>294.3</td>\n",
              "      <td>82.68</td>\n",
              "      <td>96.937143</td>\n",
              "      <td>49.42</td>\n",
              "      <td>17.172857</td>\n",
              "      <td>4.185714</td>\n",
              "      <td>27.300000</td>\n",
              "      <td>9.600000</td>\n",
              "      <td>33.1</td>\n",
              "      <td>22.3</td>\n",
              "      <td>185.7</td>\n",
              "    </tr>\n",
              "  </tbody>\n",
              "</table>\n",
              "<p>182 rows × 21 columns</p>\n",
              "</div>"
            ],
            "text/plain": [
              "                week_start_date  ...  station_precip_mm\n",
              "year weekofyear                  ...                   \n",
              "2000 26              2000-07-01  ...                3.0\n",
              "     27              2000-07-08  ...               55.6\n",
              "     28              2000-07-15  ...               38.1\n",
              "     29              2000-07-22  ...               30.0\n",
              "     30              2000-07-29  ...                4.0\n",
              "...                         ...  ...                ...\n",
              "2003 48              2003-11-26  ...               26.2\n",
              "     49              2003-12-03  ...              138.0\n",
              "     50              2003-12-10  ...               47.4\n",
              "     51              2003-12-17  ...               66.8\n",
              "     52              2003-12-24  ...              185.7\n",
              "\n",
              "[182 rows x 21 columns]"
            ]
          },
          "metadata": {
            "tags": []
          },
          "execution_count": 3
        }
      ]
    },
    {
      "cell_type": "markdown",
      "metadata": {
        "id": "PpveCB845ZYo"
      },
      "source": [
        "## 2.2 - Dimensionality Reduction\n"
      ]
    },
    {
      "cell_type": "markdown",
      "metadata": {
        "id": "n8F7Mv0BawbN"
      },
      "source": [
        "## 2.2.1 - Correlation\n",
        "\n",
        "\n",
        "\n"
      ]
    },
    {
      "cell_type": "markdown",
      "metadata": {
        "id": "y257sCCA6TDP"
      },
      "source": [
        "It is important to remove redundancy. For example, week_start_date could be inferred from weekofyear and year.\n",
        "\n"
      ]
    },
    {
      "cell_type": "code",
      "metadata": {
        "id": "p5bsQGdI6eKv"
      },
      "source": [
        "dataset_features.drop(\"week_start_date\", axis = 1, inplace = True)"
      ],
      "execution_count": 4,
      "outputs": []
    },
    {
      "cell_type": "markdown",
      "metadata": {
        "id": "kgd-lYTM6k2_"
      },
      "source": [
        "We can use correlation to do feature reduction, those perfectly correlated variable are truly redundant in the sense that no additional information is gained by adding them.\n",
        "\n",
        "Before we start with the correlation other important task is to treat the lost values in the data, since if we don't do it, our work will be very difficult.\n",
        "\n",
        "We have to see if there is any missing data."
      ]
    },
    {
      "cell_type": "code",
      "metadata": {
        "id": "y7LUu2suVm2F",
        "outputId": "a7a11bd2-64bb-47b1-f46d-76850f115715",
        "colab": {
          "base_uri": "https://localhost:8080/",
          "height": 370
        }
      },
      "source": [
        "pd.isnull(dataset_features).sum()"
      ],
      "execution_count": 5,
      "outputs": [
        {
          "output_type": "execute_result",
          "data": {
            "text/plain": [
              "ndvi_ne                                  1\n",
              "ndvi_nw                                  1\n",
              "ndvi_se                                  1\n",
              "ndvi_sw                                  1\n",
              "precipitation_amt_mm                     0\n",
              "reanalysis_air_temp_k                    0\n",
              "reanalysis_avg_temp_k                    0\n",
              "reanalysis_dew_point_temp_k              0\n",
              "reanalysis_max_air_temp_k                0\n",
              "reanalysis_min_air_temp_k                0\n",
              "reanalysis_precip_amt_kg_per_m2          0\n",
              "reanalysis_relative_humidity_percent     0\n",
              "reanalysis_sat_precip_amt_mm             0\n",
              "reanalysis_specific_humidity_g_per_kg    0\n",
              "reanalysis_tdtr_k                        0\n",
              "station_avg_temp_c                       6\n",
              "station_diur_temp_rng_c                  6\n",
              "station_max_temp_c                       0\n",
              "station_min_temp_c                       1\n",
              "station_precip_mm                        3\n",
              "dtype: int64"
            ]
          },
          "metadata": {
            "tags": []
          },
          "execution_count": 5
        }
      ]
    },
    {
      "cell_type": "code",
      "metadata": {
        "id": "JZ38Tvv58N95",
        "outputId": "f4dd70d5-cd7d-430c-a18b-e5195b15e706",
        "colab": {
          "base_uri": "https://localhost:8080/",
          "height": 370
        }
      },
      "source": [
        "pd.isnull(dataset_features).any()"
      ],
      "execution_count": 6,
      "outputs": [
        {
          "output_type": "execute_result",
          "data": {
            "text/plain": [
              "ndvi_ne                                   True\n",
              "ndvi_nw                                   True\n",
              "ndvi_se                                   True\n",
              "ndvi_sw                                   True\n",
              "precipitation_amt_mm                     False\n",
              "reanalysis_air_temp_k                    False\n",
              "reanalysis_avg_temp_k                    False\n",
              "reanalysis_dew_point_temp_k              False\n",
              "reanalysis_max_air_temp_k                False\n",
              "reanalysis_min_air_temp_k                False\n",
              "reanalysis_precip_amt_kg_per_m2          False\n",
              "reanalysis_relative_humidity_percent     False\n",
              "reanalysis_sat_precip_amt_mm             False\n",
              "reanalysis_specific_humidity_g_per_kg    False\n",
              "reanalysis_tdtr_k                        False\n",
              "station_avg_temp_c                        True\n",
              "station_diur_temp_rng_c                   True\n",
              "station_max_temp_c                       False\n",
              "station_min_temp_c                        True\n",
              "station_precip_mm                         True\n",
              "dtype: bool"
            ]
          },
          "metadata": {
            "tags": []
          },
          "execution_count": 6
        }
      ]
    },
    {
      "cell_type": "code",
      "metadata": {
        "id": "5gVmBuHk81m3",
        "outputId": "2a831f68-0249-44d1-b464-83e180cd17b6",
        "colab": {
          "base_uri": "https://localhost:8080/",
          "height": 50
        }
      },
      "source": [
        "pd.isnull(dataset_labels).any()"
      ],
      "execution_count": 7,
      "outputs": [
        {
          "output_type": "execute_result",
          "data": {
            "text/plain": [
              "total_cases    False\n",
              "dtype: bool"
            ]
          },
          "metadata": {
            "tags": []
          },
          "execution_count": 7
        }
      ]
    },
    {
      "cell_type": "markdown",
      "metadata": {
        "id": "vjira0TQ8pxg"
      },
      "source": [
        "We will process them automatically by completing them with the ffill method (with the previous value)\n",
        "\n",
        "Pandas dataframe.ffill() function is used to fill the missing value in the dataframe. 'ffill' stands for 'forward fill' and will propagate last valid observation forward."
      ]
    },
    {
      "cell_type": "code",
      "metadata": {
        "id": "P8zgELOy8uWM"
      },
      "source": [
        "dataset_features.fillna(method='ffill', inplace=True)"
      ],
      "execution_count": 8,
      "outputs": []
    },
    {
      "cell_type": "markdown",
      "metadata": {
        "id": "wqIkYeOF9M-j"
      },
      "source": [
        "We fuse both datasets"
      ]
    },
    {
      "cell_type": "code",
      "metadata": {
        "id": "O4Yl4Ua69KQI"
      },
      "source": [
        "dataset_features['total_cases'] = dataset_labels.total_cases"
      ],
      "execution_count": 9,
      "outputs": []
    },
    {
      "cell_type": "code",
      "metadata": {
        "id": "xuSXZEbKZjcW",
        "outputId": "bdf5e683-18bf-4ea8-bb26-078741574251",
        "colab": {
          "base_uri": "https://localhost:8080/",
          "height": 481
        }
      },
      "source": [
        "dataset_correlations = dataset_features.corr()\n",
        "dataset_corr_heat = sns.heatmap(dataset_correlations,cmap='coolwarm',xticklabels=True, yticklabels=True)\n",
        "\n",
        "plt.title('Iquitos 2000-2003 Variable Correlations')"
      ],
      "execution_count": 10,
      "outputs": [
        {
          "output_type": "execute_result",
          "data": {
            "text/plain": [
              "Text(0.5, 1.0, 'Iquitos 2000-2003 Variable Correlations')"
            ]
          },
          "metadata": {
            "tags": []
          },
          "execution_count": 10
        },
        {
          "output_type": "display_data",
          "data": {
            "image/png": "[encoded data removed]",
            "text/plain": [
              "<Figure size 432x288 with 2 Axes>"
            ]
          },
          "metadata": {
            "tags": [],
            "needs_background": "light"
          }
        }
      ]
    },
    {
      "cell_type": "markdown",
      "metadata": {
        "id": "_YbFDAIyFsmS"
      },
      "source": [
        "With the next code, we are going to see which features are perfectly (or almost) correleated."
      ]
    },
    {
      "cell_type": "code",
      "metadata": {
        "id": "ksmO9Fqh-qbY",
        "outputId": "fe157621-7ec2-4bdf-a5b7-c2894470a044",
        "colab": {
          "base_uri": "https://localhost:8080/",
          "height": 118
        }
      },
      "source": [
        "corr_matrix = dataset_features.corr()\n",
        "sol = (corr_matrix.where(np.triu(np.ones(corr_matrix.shape), k=1).astype(np.bool))\n",
        "                 .stack()\n",
        "                 .sort_values(ascending=False))\n",
        "for index, value in sol.items():\n",
        "  if value>0.80:\n",
        "    print(index, value)\n",
        "  "
      ],
      "execution_count": 11,
      "outputs": [
        {
          "output_type": "stream",
          "text": [
            "('precipitation_amt_mm', 'reanalysis_sat_precip_amt_mm') 1.0\n",
            "('reanalysis_dew_point_temp_k', 'reanalysis_specific_humidity_g_per_kg') 0.9978421090828513\n",
            "('reanalysis_air_temp_k', 'reanalysis_avg_temp_k') 0.9737743542998152\n",
            "('reanalysis_avg_temp_k', 'reanalysis_max_air_temp_k') 0.8213536259982039\n",
            "('reanalysis_max_air_temp_k', 'reanalysis_tdtr_k') 0.8088912148464726\n",
            "('ndvi_ne', 'ndvi_sw') 0.8040389769615475\n"
          ],
          "name": "stdout"
        }
      ]
    },
    {
      "cell_type": "markdown",
      "metadata": {
        "id": "_itB8eOAGaGO"
      },
      "source": [
        "###Conclusions of correlation:\n",
        "\n",
        "###Precipitation_amt_mm and reanalysis_sat_precip_amt_mm **1.0**: \n",
        "\n",
        "      \n",
        "> This features are perfectly correlated, so one of them are redundant, no matter which one we choose. It´s not a surprise to see here these features because both represent total precipitation on the same city.\n",
        "\n",
        "###  reanalysis_dew_point_temp_k and reanalysis_specific_humidity_g_per_kg **0.9978**:\n",
        "\n",
        ">The dew point is the temperature at which the absolute (absolute and specific are the same but they use different measure metrics) humidity is equal to the amount of water that the air can actually hold, or the temperature at which the absolute humidity equals the relative humidity of 100%.\n",
        "\n",
        "### reanalysis_air_temp_k and reanalysis_avg_temp_k **0.9737**:\n",
        "\n",
        ">Average temperature and air temperature are highly correlated too.\n",
        "\n",
        "\n",
        "\n",
        "\n",
        "\n"
      ]
    },
    {
      "cell_type": "markdown",
      "metadata": {
        "id": "dFUOlZ-MX2jV"
      },
      "source": [
        "**We are going to drop those that have less correlation with total_cases**"
      ]
    },
    {
      "cell_type": "code",
      "metadata": {
        "id": "KeDfYM-YX18l",
        "outputId": "ea38299c-43ba-4fcf-884e-ab016ae1e153",
        "colab": {
          "base_uri": "https://localhost:8080/",
          "height": 282
        }
      },
      "source": [
        "(dataset_correlations\n",
        "     .total_cases\n",
        "     .drop('total_cases')\n",
        "     .sort_values(ascending=False)\n",
        "     .plot\n",
        "     .barh())"
      ],
      "execution_count": 12,
      "outputs": [
        {
          "output_type": "execute_result",
          "data": {
            "text/plain": [
              "<matplotlib.axes._subplots.AxesSubplot at 0x7fcddcf01908>"
            ]
          },
          "metadata": {
            "tags": []
          },
          "execution_count": 12
        },
        {
          "output_type": "display_data",
          "data": {
            "image/png": "[encoded data removed]",
            "text/plain": [
              "<Figure size 432x288 with 1 Axes>"
            ]
          },
          "metadata": {
            "tags": [],
            "needs_background": "light"
          }
        }
      ]
    },
    {
      "cell_type": "markdown",
      "metadata": {
        "id": "tjW4TSYDY3NU"
      },
      "source": [
        "We are going to drop precipitation_atm_mm, reanalysis_dew_point_temp_k and reanalysis_air_temp_k.\n",
        "\n"
      ]
    },
    {
      "cell_type": "code",
      "metadata": {
        "id": "s8XFJHyEZVa8",
        "outputId": "e673f2f7-eb11-4c9c-def3-849f1f896f99",
        "colab": {
          "base_uri": "https://localhost:8080/",
          "height": 269
        }
      },
      "source": [
        "dataset_features.drop(\"precipitation_amt_mm\", axis = 1, inplace = True)\n",
        "dataset_features.drop(\"reanalysis_dew_point_temp_k\", axis = 1, inplace = True)\n",
        "dataset_features.drop(\"reanalysis_air_temp_k\", axis = 1, inplace = True)\n",
        "\n",
        "print(dataset_features)"
      ],
      "execution_count": 13,
      "outputs": [
        {
          "output_type": "stream",
          "text": [
            "                  ndvi_ne   ndvi_nw  ...  station_precip_mm  total_cases\n",
            "year weekofyear                      ...                                \n",
            "2000 26          0.192886  0.132257  ...                3.0            0\n",
            "     27          0.216833  0.276100  ...               55.6            0\n",
            "     28          0.176757  0.173129  ...               38.1            0\n",
            "     29          0.227729  0.145429  ...               30.0            0\n",
            "     30          0.328643  0.322129  ...                4.0            0\n",
            "...                   ...       ...  ...                ...          ...\n",
            "2003 48          0.274900  0.245200  ...               26.2            2\n",
            "     49          0.400343  0.318057  ...              138.0            3\n",
            "     50          0.358629  0.244350  ...               47.4            6\n",
            "     51          0.192667  0.224400  ...               66.8            5\n",
            "     52          0.285078  0.230656  ...              185.7            1\n",
            "\n",
            "[182 rows x 18 columns]\n"
          ],
          "name": "stdout"
        }
      ]
    },
    {
      "cell_type": "markdown",
      "metadata": {
        "id": "TJAY5aX9a9Xq"
      },
      "source": [
        "## 2.2.2 - PCA (Independent Component Analysis)"
      ]
    }
  ]
}